{
 "cells": [
  {
   "cell_type": "markdown",
   "id": "5546eae3-f2c0-48ca-abff-9312acacb696",
   "metadata": {},
   "source": [
    "# Customer Recommendation System"
   ]
  },
  {
   "cell_type": "markdown",
   "id": "16bb5363-30c1-460a-a6b8-96a5661149b9",
   "metadata": {},
   "source": [
    "Recommender systems aid users in efficiently locating the most pertinent items on e-commerce platforms like Amazon or content on streaming services like YouTube and Netflix. By enhancing customer satisfaction and engagement, effective recommender systems can substantially contribute to the success of these platforms. (Evelyn, 2022)"
   ]
  },
  {
   "cell_type": "markdown",
   "id": "e8de6a46-2b7a-4572-94c0-f0c6b8e301a5",
   "metadata": {},
   "source": [
    "Recommender systems can be either personalized or non-personalized. While non-personalized systems are simpler, personalized systems typically offer superior performance by tailoring recommendations to individual user preferences. Collaborative filtering, a common technique for personalized recommendation, analyzes user interaction data to predict ratings for items. This method is considered a regression task, as it involves estimating numerical ratings.  \n",
    "\n",
    "There are two primary types of collaborative filtering:  \n",
    "- *user-based*\n",
    "- *item-based*\n",
    " \n",
    "User-based collaborative filtering assumes that users with similar rating patterns will have similar preferences for other items. It primarily focuses on identifying similarities between users. However, in some cases, user preferences may be too complex to directly compare. In such instances, item-based collaborative filtering becomes more suitable. This method compares the similarity between items rather than users. (Evelyn, 2022)\n"
   ]
  },
  {
   "cell_type": "code",
   "execution_count": 1,
   "id": "d2c2c8d0-0038-4cd6-8ccf-05d0d095a777",
   "metadata": {},
   "outputs": [],
   "source": [
    "import pandas as pd\n",
    "import numpy as np\n",
    "import matplotlib.pyplot as plt\n",
    "import seaborn as sns\n",
    "import warnings\n",
    "warnings.filterwarnings('ignore')\n",
    "\n",
    "from sklearn.neighbors import NearestNeighbors\n",
    "from sklearn.metrics.pairwise import cosine_similarity\n",
    "from datetime import datetime"
   ]
  },
  {
   "cell_type": "markdown",
   "id": "e511f556-5c9d-4faf-90f6-5983c051cb29",
   "metadata": {},
   "source": [
    "### Cleaning and Preprocessing data"
   ]
  },
  {
   "cell_type": "code",
   "execution_count": 3,
   "id": "419f3a2e-2ffc-45c3-8f52-31a5976e049f",
   "metadata": {},
   "outputs": [
    {
     "data": {
      "text/html": [
       "<div>\n",
       "<style scoped>\n",
       "    .dataframe tbody tr th:only-of-type {\n",
       "        vertical-align: middle;\n",
       "    }\n",
       "\n",
       "    .dataframe tbody tr th {\n",
       "        vertical-align: top;\n",
       "    }\n",
       "\n",
       "    .dataframe thead th {\n",
       "        text-align: right;\n",
       "    }\n",
       "</style>\n",
       "<table border=\"1\" class=\"dataframe\">\n",
       "  <thead>\n",
       "    <tr style=\"text-align: right;\">\n",
       "      <th></th>\n",
       "      <th>Invoice</th>\n",
       "      <th>StockCode</th>\n",
       "      <th>Description</th>\n",
       "      <th>Quantity</th>\n",
       "      <th>InvoiceDate</th>\n",
       "      <th>Price</th>\n",
       "      <th>Customer ID</th>\n",
       "      <th>Country</th>\n",
       "    </tr>\n",
       "  </thead>\n",
       "  <tbody>\n",
       "    <tr>\n",
       "      <th>0</th>\n",
       "      <td>489434</td>\n",
       "      <td>85048</td>\n",
       "      <td>15CM CHRISTMAS GLASS BALL 20 LIGHTS</td>\n",
       "      <td>12</td>\n",
       "      <td>2009-12-01 07:45:00</td>\n",
       "      <td>6.95</td>\n",
       "      <td>13085.0</td>\n",
       "      <td>United Kingdom</td>\n",
       "    </tr>\n",
       "    <tr>\n",
       "      <th>1</th>\n",
       "      <td>489434</td>\n",
       "      <td>79323P</td>\n",
       "      <td>PINK CHERRY LIGHTS</td>\n",
       "      <td>12</td>\n",
       "      <td>2009-12-01 07:45:00</td>\n",
       "      <td>6.75</td>\n",
       "      <td>13085.0</td>\n",
       "      <td>United Kingdom</td>\n",
       "    </tr>\n",
       "    <tr>\n",
       "      <th>2</th>\n",
       "      <td>489434</td>\n",
       "      <td>79323W</td>\n",
       "      <td>WHITE CHERRY LIGHTS</td>\n",
       "      <td>12</td>\n",
       "      <td>2009-12-01 07:45:00</td>\n",
       "      <td>6.75</td>\n",
       "      <td>13085.0</td>\n",
       "      <td>United Kingdom</td>\n",
       "    </tr>\n",
       "    <tr>\n",
       "      <th>3</th>\n",
       "      <td>489434</td>\n",
       "      <td>22041</td>\n",
       "      <td>RECORD FRAME 7\" SINGLE SIZE</td>\n",
       "      <td>48</td>\n",
       "      <td>2009-12-01 07:45:00</td>\n",
       "      <td>2.10</td>\n",
       "      <td>13085.0</td>\n",
       "      <td>United Kingdom</td>\n",
       "    </tr>\n",
       "    <tr>\n",
       "      <th>4</th>\n",
       "      <td>489434</td>\n",
       "      <td>21232</td>\n",
       "      <td>STRAWBERRY CERAMIC TRINKET BOX</td>\n",
       "      <td>24</td>\n",
       "      <td>2009-12-01 07:45:00</td>\n",
       "      <td>1.25</td>\n",
       "      <td>13085.0</td>\n",
       "      <td>United Kingdom</td>\n",
       "    </tr>\n",
       "  </tbody>\n",
       "</table>\n",
       "</div>"
      ],
      "text/plain": [
       "  Invoice StockCode                          Description  Quantity  \\\n",
       "0  489434     85048  15CM CHRISTMAS GLASS BALL 20 LIGHTS        12   \n",
       "1  489434    79323P                   PINK CHERRY LIGHTS        12   \n",
       "2  489434    79323W                  WHITE CHERRY LIGHTS        12   \n",
       "3  489434     22041         RECORD FRAME 7\" SINGLE SIZE         48   \n",
       "4  489434     21232       STRAWBERRY CERAMIC TRINKET BOX        24   \n",
       "\n",
       "          InvoiceDate  Price  Customer ID         Country  \n",
       "0 2009-12-01 07:45:00   6.95      13085.0  United Kingdom  \n",
       "1 2009-12-01 07:45:00   6.75      13085.0  United Kingdom  \n",
       "2 2009-12-01 07:45:00   6.75      13085.0  United Kingdom  \n",
       "3 2009-12-01 07:45:00   2.10      13085.0  United Kingdom  \n",
       "4 2009-12-01 07:45:00   1.25      13085.0  United Kingdom  "
      ]
     },
     "execution_count": 3,
     "metadata": {},
     "output_type": "execute_result"
    }
   ],
   "source": [
    "df = pd.read_excel('online_retail_II.xlsx')\n",
    "df.head()"
   ]
  },
  {
   "cell_type": "markdown",
   "id": "e375f35d-1fb3-4a35-9b07-03eec018413b",
   "metadata": {},
   "source": [
    "### Data Dictionary\n",
    "\n",
    "**InvoiceNo**: Invoice number. Nominal. A 6-digit integral number uniquely assigned to each transaction. If this code starts with the letter 'c', it indicates a cancellation.  \n",
    "\n",
    "**StockCode**: Product (item) code. Nominal. A 5-digit integral number uniquely assigned to each distinct product.  \n",
    "\n",
    "**Description**: Product (item) name. Nominal.  \n",
    "\n",
    "**Quantity**: The quantities of each product (item) per transaction. Numeric.   \n",
    "\n",
    "**InvoiceDate**: Invice date and time. Numeric. The day and time when a transaction was generated.  \n",
    "\n",
    "**UnitPrice**: Unit price. Numeric. Product price per unit in sterling (Â£).  \n",
    "\n",
    "**CustomerID**: Customer number. Nominal. A 5-digit integral number uniquely assigned to each customer.  \n",
    "\n",
    "**Country**: Country name. Nominal. The name of the country where a customer resides.  "
   ]
  },
  {
   "cell_type": "code",
   "execution_count": 4,
   "id": "b2c218fe-ffbe-4758-a656-97cc0c7b42e1",
   "metadata": {},
   "outputs": [
    {
     "data": {
      "text/plain": [
       "(525461, 8)"
      ]
     },
     "execution_count": 4,
     "metadata": {},
     "output_type": "execute_result"
    }
   ],
   "source": [
    "df.shape"
   ]
  },
  {
   "cell_type": "code",
   "execution_count": 5,
   "id": "b4b453f0-6111-4dd3-ac45-563309e978a7",
   "metadata": {},
   "outputs": [
    {
     "data": {
      "text/plain": [
       "(6865, 8)"
      ]
     },
     "execution_count": 5,
     "metadata": {},
     "output_type": "execute_result"
    }
   ],
   "source": [
    "# Checking if the dataframe contains any duplicate rows\n",
    "duplicate_rows = df[df.duplicated()]\n",
    "duplicate_rows.shape"
   ]
  },
  {
   "cell_type": "code",
   "execution_count": 6,
   "id": "06743971-0800-4410-8980-8da405c31ffb",
   "metadata": {},
   "outputs": [
    {
     "data": {
      "text/plain": [
       "Invoice             0\n",
       "StockCode           0\n",
       "Description      2928\n",
       "Quantity            0\n",
       "InvoiceDate         0\n",
       "Price               0\n",
       "Customer ID    107927\n",
       "Country             0\n",
       "dtype: int64"
      ]
     },
     "execution_count": 6,
     "metadata": {},
     "output_type": "execute_result"
    }
   ],
   "source": [
    "# Checking for null values\n",
    "df.isna().sum()"
   ]
  },
  {
   "cell_type": "code",
   "execution_count": 7,
   "id": "016128fa-bc0d-43b8-8028-78f4ba6e1624",
   "metadata": {},
   "outputs": [
    {
     "data": {
      "text/plain": [
       "(410763, 8)"
      ]
     },
     "execution_count": 7,
     "metadata": {},
     "output_type": "execute_result"
    }
   ],
   "source": [
    "# Dropping duplicates\n",
    "# Since there is no way to impute Cutomer ID and Description, dropping the NaN rows\n",
    "df.drop_duplicates(inplace = True)\n",
    "df.dropna(inplace = True)\n",
    "df.shape"
   ]
  },
  {
   "cell_type": "code",
   "execution_count": 8,
   "id": "02d86d74-1311-4bf0-95e3-fca3ff57efd7",
   "metadata": {},
   "outputs": [
    {
     "name": "stdout",
     "output_type": "stream",
     "text": [
      "<class 'pandas.core.frame.DataFrame'>\n",
      "Index: 410763 entries, 0 to 525460\n",
      "Data columns (total 8 columns):\n",
      " #   Column       Non-Null Count   Dtype         \n",
      "---  ------       --------------   -----         \n",
      " 0   Invoice      410763 non-null  object        \n",
      " 1   StockCode    410763 non-null  object        \n",
      " 2   Description  410763 non-null  object        \n",
      " 3   Quantity     410763 non-null  int64         \n",
      " 4   InvoiceDate  410763 non-null  datetime64[ns]\n",
      " 5   Price        410763 non-null  float64       \n",
      " 6   Customer ID  410763 non-null  object        \n",
      " 7   Country      410763 non-null  object        \n",
      "dtypes: datetime64[ns](1), float64(1), int64(1), object(5)\n",
      "memory usage: 28.2+ MB\n"
     ]
    }
   ],
   "source": [
    "df['Customer ID'] = df['Customer ID'].astype('object')\n",
    "df.info()"
   ]
  },
  {
   "cell_type": "markdown",
   "id": "1ccc82dd-241c-4aa3-8225-8576a75a1ed7",
   "metadata": {},
   "source": [
    "One approach for building customer purchase recommendation systems utilizes K-Nearest Neighbors (KNN) as described in a Kaggle notebook by Prajapati (2023).\n",
    "The code can be broken down into 4 sections:  \n",
    "- Creating interaction matrix for Customer ID and Product Description\n",
    "- KNN based similarity computation for product recommendation\n",
    "- User input through loop for interactivity\n",
    "- Error handling and edge case consideration\n",
    "\n",
    "Since a customer only purchases (interacts with) a small subset of items, therefore our interaction matrix will be sparse. Hence, using KNN will be more useful as it is better suited for handling sparse data (with appropriate distance metric, like cosine)."
   ]
  },
  {
   "cell_type": "code",
   "execution_count": 9,
   "id": "33124ad3-197f-4cdd-b33c-9814a7354fb4",
   "metadata": {},
   "outputs": [
    {
     "name": "stdin",
     "output_type": "stream",
     "text": [
      "\n",
      "Enter Customer ID (eg. 13085):  13085\n",
      "Enter the number of recommended products to display:  3\n"
     ]
    },
    {
     "name": "stdout",
     "output_type": "stream",
     "text": [
      "\n",
      "Products purchased by Customer ID 13085:\n",
      "['  DOORMAT UNION JACK GUNS AND ROSES', ' WHITE CHERRY LIGHTS', '15CM CHRISTMAS GLASS BALL 20 LIGHTS', '72 SWEETHEART FAIRY CAKE CASES', 'BLACK RECORD COVER FRAME', 'CAT BOWL ', 'DOG BOWL , CHASING BALL DESIGN', 'DOOR MAT UNION FLAG', 'DOORMAT NEIGHBOURHOOD WITCH ', 'FANCY FONT HOME SWEET HOME DOORMAT', 'FRYING PAN BLUE POLKADOT ', 'FRYING PAN PINK POLKADOT ', 'HEART MEASURING SPOONS LARGE', 'HOOK, 1 HANGER ,MAGIC GARDEN', 'HOOK, 3 HANGER ,MAGIC GARDEN', 'LOVE HEART SOCK HANGER', 'LUNCHBOX WITH CUTLERY FAIRY CAKES ', 'MILK PAN BLUE RETROSPOT', 'MILK PAN PINK RETROSPOT', 'PINK  HEART CONFETTI IN TUBE', 'PINK  HEART SHAPE LOVE BUCKET ', 'PINK CHERRY LIGHTS', 'PINK DOUGHNUT TRINKET POT ', 'RECORD FRAME 7\" SINGLE SIZE ', 'RED DAISY PAPER LAMPSHADE', 'RED HEART SHAPE LOVE BUCKET ', 'ROUND SNACK BOXES SET OF 4 FRUITS ', 'ROUND SNACK BOXES SET OF4 WOODLAND ', 'SAVE THE PLANET MUG', 'SET 10 LIGHTS NIGHT OWL', 'STRAWBERRY CERAMIC TRINKET BOX', 'UNION JACK GUNS & ROSES  DOORMAT', 'VINTAGE BILLBOARD LOVE/HATE MUG', 'WHITE HEART CONFETTI IN TUBE']\n",
      "\n",
      "Top 3 recommended products for Customer ID 13085:\n",
      "Recommended Products:\n",
      "['IVORY WALL CLOCK', 'BLUE OWL DECORATION', 'DOOR MAT CAMOUFLAGE']\n"
     ]
    },
    {
     "name": "stdin",
     "output_type": "stream",
     "text": [
      "\n",
      "Do you want to see recommendations for another customer? (yes/no):  no\n"
     ]
    },
    {
     "name": "stdout",
     "output_type": "stream",
     "text": [
      "Exiting the recommendation system. Goodbye!\n"
     ]
    }
   ],
   "source": [
    "# Creating interaction matrix\n",
    "im = df.pivot_table(index='Customer ID', columns='Description', values='Quantity', fill_value=0)\n",
    "knn = NearestNeighbors(metric='cosine', algorithm='brute')\n",
    "knn.fit(im.T)\n",
    "\n",
    "def recommend_products(customer_id, top_n = 5):\n",
    "    # Checking if Customer ID exists\n",
    "    if customer_id not in im.index:\n",
    "        return f\"Customer ID {customer_id} not found in the dataset.\"\n",
    "    \n",
    "    # Get products the customer has interacted with\n",
    "    cust_data = im.loc[customer_id]\n",
    "    pur_prods = cust_data[cust_data > 0].index.tolist()\n",
    "    \n",
    "    if not pur_prods:\n",
    "        return f\"No purchase data available for Customer ID {customer_id}.\"\n",
    "    \n",
    "    print(f\"\\nProducts purchased by Customer ID {customer_id}:\")\n",
    "    print(pur_prods)\n",
    "    \n",
    "    # Finding similar products (for all purchased products)\n",
    "    sim_prods = {}\n",
    "    for prod in pur_prods:\n",
    "        if prod not in im.columns:  # Skip if product is not in the DataFrame\n",
    "            print(f\"Product '{prod}' not found in data. Skipping.\")\n",
    "            continue\n",
    "        \n",
    "        index = im.columns.get_loc(prod)\n",
    "        \n",
    "        try:\n",
    "            distances, indices = knn.kneighbors(im.T.iloc[index].values.reshape(1, -1), n_neighbors=top_n + 1)\n",
    "        except ValueError as e:\n",
    "            print(f\"Error finding neighbors for product '{prod}': {e}\")\n",
    "            continue\n",
    "        \n",
    "        for i in range(1, len(indices.flatten())):  # Starting from 1 to skip the product itself\n",
    "            sim_prod = im.columns[indices.flatten()[i]]\n",
    "            sim_prods[sim_prod] = distances.flatten()[i]\n",
    "    \n",
    "    if not sim_prods:\n",
    "        return f\"No similar products found for Customer ID {customer_id}.\"\n",
    "    \n",
    "    # Sorting by similarity scores\n",
    "    recommended_products = sorted(sim_prods.items(), key=lambda x: x[1])\n",
    "    \n",
    "    print(f\"\\nTop {top_n} recommended products for Customer ID {customer_id}:\")\n",
    "    return [product for product, _ in recommended_products[:top_n]]\n",
    "\n",
    "# Implementing a loop so that without running the code multiple times, users can use the algorithm multiple times\n",
    "while True:\n",
    "    try:\n",
    "        customer_id_input = int(input(\"\\nEnter Customer ID (eg. 13085): \"))\n",
    "        top_n_input = int(input(\"Enter the number of recommended products to display: \"))\n",
    "        \n",
    "        recommended = recommend_products(customer_id_input, top_n=top_n_input)\n",
    "        \n",
    "        if isinstance(recommended, str):\n",
    "            print(recommended)\n",
    "        else:\n",
    "            print(\"Recommended Products:\")\n",
    "            print(recommended)\n",
    "    except ValueError:\n",
    "        print(\"Invalid input. Please enter valid Customer ID and number.\")\n",
    "\n",
    "    # Ask the user if they want to continue\n",
    "    another_query = input(\"\\nDo you want to see recommendations for another customer? (yes/no): \").strip().lower()\n",
    "    if another_query not in ['yes', 'y']:\n",
    "        print(\"Exiting the recommendation system. Goodbye!\")\n",
    "        break\n"
   ]
  },
  {
   "cell_type": "markdown",
   "id": "6a7e3e76-9bdf-4c72-b14b-be2ba03a9f1a",
   "metadata": {},
   "source": [
    "After testing the system, it can be confirmed that the recommendation system is working very well."
   ]
  },
  {
   "cell_type": "markdown",
   "id": "49fb65e8-4ca1-4f62-85ef-86c6abf0e2f9",
   "metadata": {},
   "source": [
    "### Recommendations  \n",
    "- For larger datasets, KNN requires pairwise distance computation, which can be computationally expensive. SVD (Singular Value Decomposition) models can work well with large dataset, as they handle sparse data more effectively.\n",
    "- KNN struggles with new customers or products with no interaction. So, different methodologies can be used to recommend new customers, like implementation of other models like deep learning, or other filtering technique in conjunction with collaborative filtering."
   ]
  },
  {
   "cell_type": "markdown",
   "id": "5caacd99-3374-4b2d-923d-919f59a2309e",
   "metadata": {},
   "source": [
    "## Dataset\n",
    "- Chen, D. (2014). Online Retail II [UCI Machine Learning Repository]. https://archive.ics.uci.edu/ml/datasets/online+retail+II\n",
    "\n",
    "## References  \n",
    "- Evelyn [eve.9512] (2022). Collaborative filtering in recommender system: An overview. Medium. https://medium.com/@toprak.mhmt/collaborative-filtering-3ceb89080ade\n",
    "- Prajapati (2023). Customer Purchase Recommendation System KNN. Kaggle. https://www.kaggle.com/code/utisop/customer-purchase-recommendation-system-knn"
   ]
  }
 ],
 "metadata": {
  "kernelspec": {
   "display_name": "Python 3 (ipykernel)",
   "language": "python",
   "name": "python3"
  },
  "language_info": {
   "codemirror_mode": {
    "name": "ipython",
    "version": 3
   },
   "file_extension": ".py",
   "mimetype": "text/x-python",
   "name": "python",
   "nbconvert_exporter": "python",
   "pygments_lexer": "ipython3",
   "version": "3.9.7"
  }
 },
 "nbformat": 4,
 "nbformat_minor": 5
}
